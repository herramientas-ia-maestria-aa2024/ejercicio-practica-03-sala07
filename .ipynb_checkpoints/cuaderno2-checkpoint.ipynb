{
 "cells": [
  {
   "cell_type": "code",
   "execution_count": 11,
   "id": "6f49d837-9d66-4262-b2b0-3e829b28de8e",
   "metadata": {},
   "outputs": [],
   "source": [
    "import pandas as pd\n"
   ]
  },
  {
   "cell_type": "code",
   "execution_count": 12,
   "id": "5d4765dc-8ffc-4fd9-90b6-483ee2e56910",
   "metadata": {},
   "outputs": [],
   "source": [
    "data = pd.read_csv(\"misdata03-2.csv\")"
   ]
  },
  {
   "cell_type": "code",
   "execution_count": 13,
   "id": "fbbfdbd8-307b-4101-8cd2-ba776acc7abe",
   "metadata": {},
   "outputs": [
    {
     "name": "stdout",
     "output_type": "stream",
     "text": [
      "Requirement already satisfied: pygwalker in d:\\documentos\\maestria_en_inteligencia_artificial\\materias\\herramientas_para_la_inteligencia_artificial\\jupyter_lab\\env\\lib\\site-packages (0.4.8)\n",
      "Requirement already satisfied: gw-dsl-parser==0.1.47 in d:\\documentos\\maestria_en_inteligencia_artificial\\materias\\herramientas_para_la_inteligencia_artificial\\jupyter_lab\\env\\lib\\site-packages (from pygwalker) (0.1.47)\n",
      "Requirement already satisfied: pydantic in d:\\documentos\\maestria_en_inteligencia_artificial\\materias\\herramientas_para_la_inteligencia_artificial\\jupyter_lab\\env\\lib\\site-packages (from pygwalker) (2.7.1)\n",
      "Requirement already satisfied: typing-extensions in d:\\documentos\\maestria_en_inteligencia_artificial\\materias\\herramientas_para_la_inteligencia_artificial\\jupyter_lab\\env\\lib\\site-packages (from pygwalker) (4.11.0)\n",
      "Requirement already satisfied: pandas in d:\\documentos\\maestria_en_inteligencia_artificial\\materias\\herramientas_para_la_inteligencia_artificial\\jupyter_lab\\env\\lib\\site-packages (from pygwalker) (2.2.2)\n",
      "Requirement already satisfied: kanaries-track==0.0.4 in d:\\documentos\\maestria_en_inteligencia_artificial\\materias\\herramientas_para_la_inteligencia_artificial\\jupyter_lab\\env\\lib\\site-packages (from pygwalker) (0.0.4)\n",
      "Requirement already satisfied: duckdb==0.10.1 in d:\\documentos\\maestria_en_inteligencia_artificial\\materias\\herramientas_para_la_inteligencia_artificial\\jupyter_lab\\env\\lib\\site-packages (from pygwalker) (0.10.1)\n",
      "Requirement already satisfied: psutil in d:\\documentos\\maestria_en_inteligencia_artificial\\materias\\herramientas_para_la_inteligencia_artificial\\jupyter_lab\\env\\lib\\site-packages (from pygwalker) (5.9.8)\n",
      "Requirement already satisfied: pytz in d:\\documentos\\maestria_en_inteligencia_artificial\\materias\\herramientas_para_la_inteligencia_artificial\\jupyter_lab\\env\\lib\\site-packages (from pygwalker) (2024.1)\n",
      "Requirement already satisfied: astor in d:\\documentos\\maestria_en_inteligencia_artificial\\materias\\herramientas_para_la_inteligencia_artificial\\jupyter_lab\\env\\lib\\site-packages (from pygwalker) (0.8.1)\n",
      "Requirement already satisfied: sqlglot>=19.0.0 in d:\\documentos\\maestria_en_inteligencia_artificial\\materias\\herramientas_para_la_inteligencia_artificial\\jupyter_lab\\env\\lib\\site-packages (from pygwalker) (23.11.2)\n",
      "Requirement already satisfied: appdirs in d:\\documentos\\maestria_en_inteligencia_artificial\\materias\\herramientas_para_la_inteligencia_artificial\\jupyter_lab\\env\\lib\\site-packages (from pygwalker) (1.4.4)\n",
      "Requirement already satisfied: segment-analytics-python==2.2.3 in d:\\documentos\\maestria_en_inteligencia_artificial\\materias\\herramientas_para_la_inteligencia_artificial\\jupyter_lab\\env\\lib\\site-packages (from pygwalker) (2.2.3)\n",
      "Requirement already satisfied: arrow in d:\\documentos\\maestria_en_inteligencia_artificial\\materias\\herramientas_para_la_inteligencia_artificial\\jupyter_lab\\env\\lib\\site-packages (from pygwalker) (1.3.0)\n",
      "Requirement already satisfied: ipywidgets in d:\\documentos\\maestria_en_inteligencia_artificial\\materias\\herramientas_para_la_inteligencia_artificial\\jupyter_lab\\env\\lib\\site-packages (from pygwalker) (8.1.2)\n",
      "Requirement already satisfied: sqlalchemy in d:\\documentos\\maestria_en_inteligencia_artificial\\materias\\herramientas_para_la_inteligencia_artificial\\jupyter_lab\\env\\lib\\site-packages (from pygwalker) (2.0.29)\n",
      "Requirement already satisfied: requests in d:\\documentos\\maestria_en_inteligencia_artificial\\materias\\herramientas_para_la_inteligencia_artificial\\jupyter_lab\\env\\lib\\site-packages (from pygwalker) (2.31.0)\n",
      "Requirement already satisfied: jinja2 in d:\\documentos\\maestria_en_inteligencia_artificial\\materias\\herramientas_para_la_inteligencia_artificial\\jupyter_lab\\env\\lib\\site-packages (from pygwalker) (3.1.3)\n",
      "Requirement already satisfied: pyarrow in d:\\documentos\\maestria_en_inteligencia_artificial\\materias\\herramientas_para_la_inteligencia_artificial\\jupyter_lab\\env\\lib\\site-packages (from pygwalker) (16.0.0)\n",
      "Requirement already satisfied: cachetools in d:\\documentos\\maestria_en_inteligencia_artificial\\materias\\herramientas_para_la_inteligencia_artificial\\jupyter_lab\\env\\lib\\site-packages (from pygwalker) (5.3.3)\n",
      "Requirement already satisfied: ipython in d:\\documentos\\maestria_en_inteligencia_artificial\\materias\\herramientas_para_la_inteligencia_artificial\\jupyter_lab\\env\\lib\\site-packages (from pygwalker) (8.23.0)\n",
      "Requirement already satisfied: packaging in d:\\documentos\\maestria_en_inteligencia_artificial\\materias\\herramientas_para_la_inteligencia_artificial\\jupyter_lab\\env\\lib\\site-packages (from pygwalker) (24.0)\n",
      "Requirement already satisfied: wasmtime==12.0.0 in d:\\documentos\\maestria_en_inteligencia_artificial\\materias\\herramientas_para_la_inteligencia_artificial\\jupyter_lab\\env\\lib\\site-packages (from gw-dsl-parser==0.1.47->pygwalker) (12.0.0)\n",
      "Requirement already satisfied: backoff>=2.2.1 in d:\\documentos\\maestria_en_inteligencia_artificial\\materias\\herramientas_para_la_inteligencia_artificial\\jupyter_lab\\env\\lib\\site-packages (from kanaries-track==0.0.4->pygwalker) (2.2.1)\n",
      "Requirement already satisfied: dateutils>=0.6.12 in d:\\documentos\\maestria_en_inteligencia_artificial\\materias\\herramientas_para_la_inteligencia_artificial\\jupyter_lab\\env\\lib\\site-packages (from kanaries-track==0.0.4->pygwalker) (0.6.12)\n",
      "Requirement already satisfied: python-dateutil~=2.2 in d:\\documentos\\maestria_en_inteligencia_artificial\\materias\\herramientas_para_la_inteligencia_artificial\\jupyter_lab\\env\\lib\\site-packages (from segment-analytics-python==2.2.3->pygwalker) (2.9.0.post0)\n",
      "Requirement already satisfied: monotonic~=1.5 in d:\\documentos\\maestria_en_inteligencia_artificial\\materias\\herramientas_para_la_inteligencia_artificial\\jupyter_lab\\env\\lib\\site-packages (from segment-analytics-python==2.2.3->pygwalker) (1.6)\n",
      "Requirement already satisfied: charset-normalizer<4,>=2 in d:\\documentos\\maestria_en_inteligencia_artificial\\materias\\herramientas_para_la_inteligencia_artificial\\jupyter_lab\\env\\lib\\site-packages (from requests->pygwalker) (3.3.2)\n",
      "Requirement already satisfied: urllib3<3,>=1.21.1 in d:\\documentos\\maestria_en_inteligencia_artificial\\materias\\herramientas_para_la_inteligencia_artificial\\jupyter_lab\\env\\lib\\site-packages (from requests->pygwalker) (2.2.1)\n",
      "Requirement already satisfied: certifi>=2017.4.17 in d:\\documentos\\maestria_en_inteligencia_artificial\\materias\\herramientas_para_la_inteligencia_artificial\\jupyter_lab\\env\\lib\\site-packages (from requests->pygwalker) (2024.2.2)\n",
      "Requirement already satisfied: idna<4,>=2.5 in d:\\documentos\\maestria_en_inteligencia_artificial\\materias\\herramientas_para_la_inteligencia_artificial\\jupyter_lab\\env\\lib\\site-packages (from requests->pygwalker) (3.7)\n",
      "Requirement already satisfied: types-python-dateutil>=2.8.10 in d:\\documentos\\maestria_en_inteligencia_artificial\\materias\\herramientas_para_la_inteligencia_artificial\\jupyter_lab\\env\\lib\\site-packages (from arrow->pygwalker) (2.9.0.20240316)\n",
      "Requirement already satisfied: pygments>=2.4.0 in d:\\documentos\\maestria_en_inteligencia_artificial\\materias\\herramientas_para_la_inteligencia_artificial\\jupyter_lab\\env\\lib\\site-packages (from ipython->pygwalker) (2.17.2)\n",
      "Requirement already satisfied: decorator in d:\\documentos\\maestria_en_inteligencia_artificial\\materias\\herramientas_para_la_inteligencia_artificial\\jupyter_lab\\env\\lib\\site-packages (from ipython->pygwalker) (5.1.1)\n",
      "Requirement already satisfied: traitlets>=5.13.0 in d:\\documentos\\maestria_en_inteligencia_artificial\\materias\\herramientas_para_la_inteligencia_artificial\\jupyter_lab\\env\\lib\\site-packages (from ipython->pygwalker) (5.14.3)\n",
      "Requirement already satisfied: matplotlib-inline in d:\\documentos\\maestria_en_inteligencia_artificial\\materias\\herramientas_para_la_inteligencia_artificial\\jupyter_lab\\env\\lib\\site-packages (from ipython->pygwalker) (0.1.7)\n",
      "Requirement already satisfied: jedi>=0.16 in d:\\documentos\\maestria_en_inteligencia_artificial\\materias\\herramientas_para_la_inteligencia_artificial\\jupyter_lab\\env\\lib\\site-packages (from ipython->pygwalker) (0.19.1)\n",
      "Requirement already satisfied: exceptiongroup in d:\\documentos\\maestria_en_inteligencia_artificial\\materias\\herramientas_para_la_inteligencia_artificial\\jupyter_lab\\env\\lib\\site-packages (from ipython->pygwalker) (1.2.1)\n",
      "Requirement already satisfied: colorama in d:\\documentos\\maestria_en_inteligencia_artificial\\materias\\herramientas_para_la_inteligencia_artificial\\jupyter_lab\\env\\lib\\site-packages (from ipython->pygwalker) (0.4.6)\n",
      "Requirement already satisfied: prompt-toolkit<3.1.0,>=3.0.41 in d:\\documentos\\maestria_en_inteligencia_artificial\\materias\\herramientas_para_la_inteligencia_artificial\\jupyter_lab\\env\\lib\\site-packages (from ipython->pygwalker) (3.0.43)\n",
      "Requirement already satisfied: stack-data in d:\\documentos\\maestria_en_inteligencia_artificial\\materias\\herramientas_para_la_inteligencia_artificial\\jupyter_lab\\env\\lib\\site-packages (from ipython->pygwalker) (0.6.3)\n",
      "Requirement already satisfied: widgetsnbextension~=4.0.10 in d:\\documentos\\maestria_en_inteligencia_artificial\\materias\\herramientas_para_la_inteligencia_artificial\\jupyter_lab\\env\\lib\\site-packages (from ipywidgets->pygwalker) (4.0.10)\n",
      "Requirement already satisfied: comm>=0.1.3 in d:\\documentos\\maestria_en_inteligencia_artificial\\materias\\herramientas_para_la_inteligencia_artificial\\jupyter_lab\\env\\lib\\site-packages (from ipywidgets->pygwalker) (0.2.2)\n",
      "Requirement already satisfied: jupyterlab-widgets~=3.0.10 in d:\\documentos\\maestria_en_inteligencia_artificial\\materias\\herramientas_para_la_inteligencia_artificial\\jupyter_lab\\env\\lib\\site-packages (from ipywidgets->pygwalker) (3.0.10)\n",
      "Requirement already satisfied: MarkupSafe>=2.0 in d:\\documentos\\maestria_en_inteligencia_artificial\\materias\\herramientas_para_la_inteligencia_artificial\\jupyter_lab\\env\\lib\\site-packages (from jinja2->pygwalker) (2.1.5)\n",
      "Requirement already satisfied: numpy>=1.22.4 in d:\\documentos\\maestria_en_inteligencia_artificial\\materias\\herramientas_para_la_inteligencia_artificial\\jupyter_lab\\env\\lib\\site-packages (from pandas->pygwalker) (1.26.4)\n",
      "Requirement already satisfied: tzdata>=2022.7 in d:\\documentos\\maestria_en_inteligencia_artificial\\materias\\herramientas_para_la_inteligencia_artificial\\jupyter_lab\\env\\lib\\site-packages (from pandas->pygwalker) (2024.1)\n",
      "Requirement already satisfied: annotated-types>=0.4.0 in d:\\documentos\\maestria_en_inteligencia_artificial\\materias\\herramientas_para_la_inteligencia_artificial\\jupyter_lab\\env\\lib\\site-packages (from pydantic->pygwalker) (0.6.0)\n",
      "Requirement already satisfied: pydantic-core==2.18.2 in d:\\documentos\\maestria_en_inteligencia_artificial\\materias\\herramientas_para_la_inteligencia_artificial\\jupyter_lab\\env\\lib\\site-packages (from pydantic->pygwalker) (2.18.2)\n",
      "Requirement already satisfied: greenlet!=0.4.17 in d:\\documentos\\maestria_en_inteligencia_artificial\\materias\\herramientas_para_la_inteligencia_artificial\\jupyter_lab\\env\\lib\\site-packages (from sqlalchemy->pygwalker) (3.0.3)\n",
      "Requirement already satisfied: parso<0.9.0,>=0.8.3 in d:\\documentos\\maestria_en_inteligencia_artificial\\materias\\herramientas_para_la_inteligencia_artificial\\jupyter_lab\\env\\lib\\site-packages (from jedi>=0.16->ipython->pygwalker) (0.8.4)\n",
      "Requirement already satisfied: wcwidth in d:\\documentos\\maestria_en_inteligencia_artificial\\materias\\herramientas_para_la_inteligencia_artificial\\jupyter_lab\\env\\lib\\site-packages (from prompt-toolkit<3.1.0,>=3.0.41->ipython->pygwalker) (0.2.13)\n",
      "Requirement already satisfied: six>=1.5 in d:\\documentos\\maestria_en_inteligencia_artificial\\materias\\herramientas_para_la_inteligencia_artificial\\jupyter_lab\\env\\lib\\site-packages (from python-dateutil~=2.2->segment-analytics-python==2.2.3->pygwalker) (1.16.0)\n",
      "Requirement already satisfied: pure-eval in d:\\documentos\\maestria_en_inteligencia_artificial\\materias\\herramientas_para_la_inteligencia_artificial\\jupyter_lab\\env\\lib\\site-packages (from stack-data->ipython->pygwalker) (0.2.2)\n",
      "Requirement already satisfied: executing>=1.2.0 in d:\\documentos\\maestria_en_inteligencia_artificial\\materias\\herramientas_para_la_inteligencia_artificial\\jupyter_lab\\env\\lib\\site-packages (from stack-data->ipython->pygwalker) (2.0.1)\n",
      "Requirement already satisfied: asttokens>=2.1.0 in d:\\documentos\\maestria_en_inteligencia_artificial\\materias\\herramientas_para_la_inteligencia_artificial\\jupyter_lab\\env\\lib\\site-packages (from stack-data->ipython->pygwalker) (2.4.1)\n"
     ]
    },
    {
     "name": "stderr",
     "output_type": "stream",
     "text": [
      "\n",
      "[notice] A new release of pip available: 22.3.1 -> 24.0\n",
      "[notice] To update, run: python.exe -m pip install --upgrade pip\n"
     ]
    }
   ],
   "source": [
    "!pip install pygwalker\n",
    "# si se sigue este proceso, deberá reiniciar el jupyter-lab"
   ]
  },
  {
   "cell_type": "code",
   "execution_count": 14,
   "id": "1dfe7d68-e40e-44cb-a362-66acd5b9e71d",
   "metadata": {},
   "outputs": [],
   "source": [
    "import pygwalker as pyg\n"
   ]
  },
  {
   "cell_type": "code",
   "execution_count": 15,
   "id": "317ce43f-25d7-48dd-a11f-484004a8db82",
   "metadata": {},
   "outputs": [
    {
     "data": {
      "application/vnd.jupyter.widget-view+json": {
       "model_id": "73138068aad446e2bf384844087f696f",
       "version_major": 2,
       "version_minor": 0
      },
      "text/plain": [
       "Box(children=(HTML(value='<div id=\"ifr-pyg-000616ce1ad05ca9lExXaIQZo4hf2LOw\" style=\"height: auto\">\\n    <head>…"
      ]
     },
     "metadata": {},
     "output_type": "display_data"
    },
    {
     "data": {
      "text/html": [],
      "text/plain": [
       "<IPython.core.display.HTML object>"
      ]
     },
     "metadata": {},
     "output_type": "display_data"
    },
    {
     "data": {
      "text/plain": [
       "<pygwalker.api.pygwalker.PygWalker at 0x251708ba5c0>"
      ]
     },
     "execution_count": 15,
     "metadata": {},
     "output_type": "execute_result"
    }
   ],
   "source": [
    "pyg.walk(data)\n"
   ]
  },
  {
   "cell_type": "code",
   "execution_count": null,
   "id": "b6508a16-6df4-4b0c-b46f-f4de7e9f6778",
   "metadata": {},
   "outputs": [],
   "source": []
  }
 ],
 "metadata": {
  "kernelspec": {
   "display_name": "Python 3 (ipykernel)",
   "language": "python",
   "name": "python3"
  },
  "language_info": {
   "codemirror_mode": {
    "name": "ipython",
    "version": 3
   },
   "file_extension": ".py",
   "mimetype": "text/x-python",
   "name": "python",
   "nbconvert_exporter": "python",
   "pygments_lexer": "ipython3",
   "version": "3.10.9"
  }
 },
 "nbformat": 4,
 "nbformat_minor": 5
}
